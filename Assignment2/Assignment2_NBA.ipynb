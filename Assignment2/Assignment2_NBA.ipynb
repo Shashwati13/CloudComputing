{
 "cells": [
  {
   "cell_type": "code",
   "execution_count": 1,
   "id": "788f0838-9a56-4339-b5c7-51b83b90c0c8",
   "metadata": {},
   "outputs": [],
   "source": [
    "import os\n",
    "import numpy as np\n",
    "import pandas as pd\n",
    "import shutil\n",
    "import pyspark\n"
   ]
  },
  {
   "cell_type": "code",
   "execution_count": 2,
   "id": "ff1d314a-94fa-492d-a1c8-67405a485e2a",
   "metadata": {},
   "outputs": [],
   "source": [
    "import pyspark.sql.functions as psf\n",
    "from pyspark.ml.clustering import KMeans\n",
    "from pyspark.ml.feature import VectorAssembler\n",
    "from pyspark.sql import SparkSession \n",
    "from pyspark.sql import SparkSession, SQLContext, Window\n",
    "from pyspark.sql.functions import when, count, col, sum, regexp_replace\n",
    "from pyspark import SparkContext\n",
    "from pyspark.sql.types import IntegerType"
   ]
  },
  {
   "cell_type": "code",
   "execution_count": 3,
   "id": "c3657bbe-c84e-453b-9505-a7e18a3d2dcd",
   "metadata": {},
   "outputs": [],
   "source": [
    "sparkObj = pyspark.sql.SparkSession.builder.appName(\"Assignment2_NBA\").getOrCreate()\n",
    "sparkObj.conf.set(\"spark.sql.repl.eagerEval.enabled\", True)"
   ]
  },
  {
   "cell_type": "code",
   "execution_count": 4,
   "id": "c997e37d-bc0b-4ff9-9b26-db882af916bd",
   "metadata": {},
   "outputs": [
    {
     "data": {
      "text/html": [
       "\n",
       "            <div>\n",
       "                <p><b>SparkSession - in-memory</b></p>\n",
       "                \n",
       "        <div>\n",
       "            <p><b>SparkContext</b></p>\n",
       "\n",
       "            <p><a href=\"http://45d2c2899c2c:4040\">Spark UI</a></p>\n",
       "\n",
       "            <dl>\n",
       "              <dt>Version</dt>\n",
       "                <dd><code>v3.5.0</code></dd>\n",
       "              <dt>Master</dt>\n",
       "                <dd><code>local[*]</code></dd>\n",
       "              <dt>AppName</dt>\n",
       "                <dd><code>Assignment2_NBA</code></dd>\n",
       "            </dl>\n",
       "        </div>\n",
       "        \n",
       "            </div>\n",
       "        "
      ],
      "text/plain": [
       "<pyspark.sql.session.SparkSession at 0x7fd82c8c4b90>"
      ]
     },
     "execution_count": 4,
     "metadata": {},
     "output_type": "execute_result"
    }
   ],
   "source": [
    "sparkObj"
   ]
  },
  {
   "cell_type": "code",
   "execution_count": 5,
   "id": "88b420c3-db52-4606-abe9-ecfffb01e0f1",
   "metadata": {},
   "outputs": [],
   "source": [
    "nbaData = sparkObj.read.format(\"csv\").option(\"header\", \"true\",).option(\"inferSchema\",\"true\").load('shot_logs.csv')\n"
   ]
  },
  {
   "cell_type": "code",
   "execution_count": 6,
   "id": "e0e55337-3fdf-436d-ab5f-8eda158e5e9a",
   "metadata": {},
   "outputs": [
    {
     "name": "stdout",
     "output_type": "stream",
     "text": [
      "-RECORD 0------------------------------------------\n",
      " GAME_ID                    | 21400899             \n",
      " MATCHUP                    | MAR 04, 2015 - CH... \n",
      " LOCATION                   | A                    \n",
      " W                          | W                    \n",
      " FINAL_MARGIN               | 24                   \n",
      " SHOT_NUMBER                | 1                    \n",
      " PERIOD                     | 1                    \n",
      " GAME_CLOCK                 | 2023-11-18 01:09:00  \n",
      " SHOT_CLOCK                 | 10.8                 \n",
      " DRIBBLES                   | 2                    \n",
      " TOUCH_TIME                 | 1.9                  \n",
      " SHOT_DIST                  | 7.7                  \n",
      " PTS_TYPE                   | 2                    \n",
      " SHOT_RESULT                | made                 \n",
      " CLOSEST_DEFENDER           | Anderson, Alan       \n",
      " CLOSEST_DEFENDER_PLAYER_ID | 101187               \n",
      " CLOSE_DEF_DIST             | 1.3                  \n",
      " FGM                        | 1                    \n",
      " PTS                        | 2                    \n",
      " player_name                | brian roberts        \n",
      " player_id                  | 203148               \n",
      "-RECORD 1------------------------------------------\n",
      " GAME_ID                    | 21400899             \n",
      " MATCHUP                    | MAR 04, 2015 - CH... \n",
      " LOCATION                   | A                    \n",
      " W                          | W                    \n",
      " FINAL_MARGIN               | 24                   \n",
      " SHOT_NUMBER                | 2                    \n",
      " PERIOD                     | 1                    \n",
      " GAME_CLOCK                 | 2023-11-18 00:14:00  \n",
      " SHOT_CLOCK                 | 3.4                  \n",
      " DRIBBLES                   | 0                    \n",
      " TOUCH_TIME                 | 0.8                  \n",
      " SHOT_DIST                  | 28.2                 \n",
      " PTS_TYPE                   | 3                    \n",
      " SHOT_RESULT                | missed               \n",
      " CLOSEST_DEFENDER           | Bogdanovic, Bojan    \n",
      " CLOSEST_DEFENDER_PLAYER_ID | 202711               \n",
      " CLOSE_DEF_DIST             | 6.1                  \n",
      " FGM                        | 0                    \n",
      " PTS                        | 0                    \n",
      " player_name                | brian roberts        \n",
      " player_id                  | 203148               \n",
      "only showing top 2 rows\n",
      "\n"
     ]
    }
   ],
   "source": [
    "nbaData.show(n=2,vertical=True)"
   ]
  },
  {
   "cell_type": "code",
   "execution_count": 7,
   "id": "ad66dac5-6d19-425f-b644-23415d4f4707",
   "metadata": {},
   "outputs": [
    {
     "name": "stdout",
     "output_type": "stream",
     "text": [
      "Total Rows:  128069\n",
      "Total Columns:  21\n"
     ]
    }
   ],
   "source": [
    "print(\"Total Rows: \" , nbaData.count())\n",
    "print(\"Total Columns: \" , len(nbaData.columns))"
   ]
  },
  {
   "cell_type": "code",
   "execution_count": 8,
   "id": "41f1cd06-b51f-437c-a1be-b5315d8a72aa",
   "metadata": {},
   "outputs": [
    {
     "name": "stdout",
     "output_type": "stream",
     "text": [
      "root\n",
      " |-- GAME_ID: integer (nullable = true)\n",
      " |-- MATCHUP: string (nullable = true)\n",
      " |-- LOCATION: string (nullable = true)\n",
      " |-- W: string (nullable = true)\n",
      " |-- FINAL_MARGIN: integer (nullable = true)\n",
      " |-- SHOT_NUMBER: integer (nullable = true)\n",
      " |-- PERIOD: integer (nullable = true)\n",
      " |-- GAME_CLOCK: timestamp (nullable = true)\n",
      " |-- SHOT_CLOCK: double (nullable = true)\n",
      " |-- DRIBBLES: integer (nullable = true)\n",
      " |-- TOUCH_TIME: double (nullable = true)\n",
      " |-- SHOT_DIST: double (nullable = true)\n",
      " |-- PTS_TYPE: integer (nullable = true)\n",
      " |-- SHOT_RESULT: string (nullable = true)\n",
      " |-- CLOSEST_DEFENDER: string (nullable = true)\n",
      " |-- CLOSEST_DEFENDER_PLAYER_ID: integer (nullable = true)\n",
      " |-- CLOSE_DEF_DIST: double (nullable = true)\n",
      " |-- FGM: integer (nullable = true)\n",
      " |-- PTS: integer (nullable = true)\n",
      " |-- player_name: string (nullable = true)\n",
      " |-- player_id: integer (nullable = true)\n",
      "\n"
     ]
    }
   ],
   "source": [
    "nbaData.printSchema()"
   ]
  },
  {
   "cell_type": "markdown",
   "id": "a9086bf1-aba2-4e9d-8c2a-1454434935fb",
   "metadata": {},
   "source": [
    "### Question 1: For each pair of the players (A, B), we define the fear sore of A when facing B is the hit rate, such that B is closet defender when A is shooting. Based on the fear sore, for each player, please find out who is his ”most unwanted defender”. "
   ]
  },
  {
   "cell_type": "code",
   "execution_count": 9,
   "id": "96d77505-8953-4ade-a626-9c34385f8318",
   "metadata": {},
   "outputs": [
    {
     "name": "stdout",
     "output_type": "stream",
     "text": [
      "+---------+-----------+------+----------+\n",
      "|Player ID|Defender ID|Scored|Not Scored|\n",
      "+---------+-----------+------+----------+\n",
      "|   203148|     101179|     0|         1|\n",
      "|   202687|     201980|     1|         0|\n",
      "|     2744|       1717|     0|         2|\n",
      "|   203469|     202329|     1|         1|\n",
      "|   201945|     202322|     0|         3|\n",
      "|   202689|     202699|     6|         8|\n",
      "|   202689|     203924|     1|         0|\n",
      "|   203077|       2730|     1|         0|\n",
      "|   203077|     201584|     2|         0|\n",
      "|   202362|     201188|     2|         0|\n",
      "+---------+-----------+------+----------+\n",
      "only showing top 10 rows\n",
      "\n"
     ]
    }
   ],
   "source": [
    "madeCond= psf.when(psf.col(\"SHOT_RESULT\") == \"made\", 1).otherwise(0)\n",
    "missedCond = psf.when(psf.col(\"SHOT_RESULT\") == \"missed\", 1).otherwise(0)\n",
    "\n",
    "unwantedDf = nbaData.groupBy(\n",
    "    psf.col(\"player_id\").alias(\"Player ID\"),\n",
    "    psf.col(\"CLOSEST_DEFENDER_PLAYER_ID\").alias(\"Defender ID\")\n",
    ").agg(\n",
    "    psf.sum(madeCond).alias(\"Scored\"),\n",
    "    psf.sum(missedCond).alias(\"Not Scored\")\n",
    ")\n",
    "\n",
    "\n",
    "unwantedDf.show(10)"
   ]
  },
  {
   "cell_type": "code",
   "execution_count": 10,
   "id": "19ccd14a-59ab-4a44-a367-f974ab18d6b1",
   "metadata": {},
   "outputs": [
    {
     "name": "stdout",
     "output_type": "stream",
     "text": [
      "+---------+-----------+------+----------+-------------------+\n",
      "|Player ID|Defender ID|Scored|Not Scored|            HitRate|\n",
      "+---------+-----------+------+----------+-------------------+\n",
      "|   203148|     101179|     0|         1|                0.0|\n",
      "|   202687|     201980|     1|         0|                1.0|\n",
      "|     2744|       1717|     0|         2|                0.0|\n",
      "|   203469|     202329|     1|         1|                0.5|\n",
      "|   201945|     202322|     0|         3|                0.0|\n",
      "|   202689|     202699|     6|         8|0.42857142857142855|\n",
      "|   202689|     203924|     1|         0|                1.0|\n",
      "|   203077|       2730|     1|         0|                1.0|\n",
      "|   203077|     201584|     2|         0|                1.0|\n",
      "|   202362|     201188|     2|         0|                1.0|\n",
      "+---------+-----------+------+----------+-------------------+\n",
      "only showing top 10 rows\n",
      "\n"
     ]
    }
   ],
   "source": [
    "unwantedDf = unwantedDf.withColumn(\n",
    "    \"HitRate\",\n",
    "    psf.col(\"Scored\") / (psf.col(\"Scored\") + psf.col(\"Not Scored\"))\n",
    ")\n",
    "unwantedDf.show(10)"
   ]
  },
  {
   "cell_type": "code",
   "execution_count": 11,
   "id": "a9c4dc25-17cc-4e7f-ad55-b2d2d9c42b9a",
   "metadata": {},
   "outputs": [],
   "source": [
    "unwantedDf = unwantedDf.filter(psf.col(\"HitRate\").isNotNull())"
   ]
  },
  {
   "cell_type": "code",
   "execution_count": 12,
   "id": "4ee5e320-6e9d-44c1-bbbb-a83116318262",
   "metadata": {},
   "outputs": [],
   "source": [
    "unwantedDf = unwantedDf.dropDuplicates(subset=[\"Player ID\", \"HitRate\"])\n"
   ]
  },
  {
   "cell_type": "code",
   "execution_count": 13,
   "id": "7bd6c0c4-f4cd-4430-8228-1aa8281b42eb",
   "metadata": {},
   "outputs": [],
   "source": [
    "finalDf = unwantedDf.groupBy(\"Player ID\").agg(psf.min(\"HitRate\").alias(\"HitRate\"))"
   ]
  },
  {
   "cell_type": "code",
   "execution_count": 14,
   "id": "a7072805-8dac-4f92-8bae-1322d748fd99",
   "metadata": {},
   "outputs": [
    {
     "name": "stdout",
     "output_type": "stream",
     "text": [
      "+--------------+----------------------+\n",
      "|   Player Name|Most Unwanted Defender|\n",
      "+--------------+----------------------+\n",
      "| kevin garnett|           Exum, Dante|\n",
      "|   kobe bryant|        Anderson, Kyle|\n",
      "|    tim duncan|        Roberts, Brian|\n",
      "|  vince carter|       Crawford, Jamal|\n",
      "|dirk nowtizski|           Hickson, JJ|\n",
      "|   paul pierce|         Waiters, Dion|\n",
      "|  andre miller|       Splitter, Tiago|\n",
      "|  shawn marion|     Tolliver, Anthony|\n",
      "|   jason terry|          Lopez, Brook|\n",
      "| manu ginobili|      Bennett, Anthony|\n",
      "+--------------+----------------------+\n",
      "only showing top 10 rows\n",
      "\n"
     ]
    }
   ],
   "source": [
    "unwantedDf = unwantedDf.join(finalDf, [\"Player ID\", \"HitRate\"]).select(\"Player ID\", \"Defender ID\")\n",
    "\n",
    "\n",
    "unwantedDf = unwantedDf.join(\n",
    "    nbaData,\n",
    "    (nbaData[\"player_id\"] == unwantedDf[\"Player ID\"]) & (nbaData[\"CLOSEST_DEFENDER_PLAYER_ID\"] == unwantedDf[\"Defender ID\"])\n",
    ").withColumn(\"Player Name\", col(\"player_name\")).withColumn(\"Most Unwanted Defender\", col(\"CLOSEST_DEFENDER\"))\n",
    "\n",
    "unwantedDf = unwantedDf.dropDuplicates([\"Player ID\", \"Defender ID\"])\n",
    "\n",
    "unwantedDf.select(\"Player Name\", \"Most Unwanted Defender\").show(10)"
   ]
  },
  {
   "cell_type": "markdown",
   "id": "fe0c9f10-feb3-4b93-8f8c-2628c36a9375",
   "metadata": {},
   "source": [
    "### Answer 1: \n",
    "From the above table, we can see that most unwanted defender for each of the player. So, if Kevin Garnett is the shooter, the most the unwanted defender is the  Exum, Dante"
   ]
  },
  {
   "cell_type": "code",
   "execution_count": 15,
   "id": "bfa50106-ec59-4de8-8f44-b29ddc6520e4",
   "metadata": {},
   "outputs": [],
   "source": [
    "sparkObj.stop()"
   ]
  },
  {
   "cell_type": "markdown",
   "id": "fc7572c2-ec3c-444e-91be-0abdff256ffb",
   "metadata": {},
   "source": [
    "### Question 2: For each player, we define the comfortable zone of shooting is a matrix of, {SHOT DIST, CLOSE DEF DIST, SHOT CLOCK}Please develop a Spark-based algorithm to classify each player’s records into 4 comfortable zones. Considering the hit rate, which zone is the best for James Harden, Chris Paul, Stephen Curry, and Lebron James."
   ]
  },
  {
   "cell_type": "code",
   "execution_count": 16,
   "id": "a14447d3-9864-434c-abda-450de3dd6fd3",
   "metadata": {},
   "outputs": [],
   "source": [
    "sparkObj = pyspark.sql.SparkSession.builder.appName(\"Assignment2_NBA_2\").getOrCreate()\n",
    "sparkObj.conf.set(\"spark.sql.repl.eagerEval.enabled\", True)"
   ]
  },
  {
   "cell_type": "code",
   "execution_count": 17,
   "id": "6cf5d487-161d-4102-8b98-ba09d2cef9a9",
   "metadata": {},
   "outputs": [],
   "source": [
    "nbaData = sparkObj.read.format(\"csv\").option(\"header\", \"true\",).option(\"inferSchema\",\"true\").load('shot_logs.csv').select(\"player_name\",\"SHOT_DIST\",\"CLOSE_DEF_DIST\", \"SHOT_CLOCK\", \"SHOT_RESULT\").na.drop()"
   ]
  },
  {
   "cell_type": "code",
   "execution_count": 18,
   "id": "0a791bf5-5e2a-4636-a69c-8524bd8e5c41",
   "metadata": {},
   "outputs": [],
   "source": [
    "nbaShotsData = nbaData.withColumn('SHOT_RESULT', psf.when(psf.col('SHOT_RESULT') == 'made', 1).otherwise(0).cast('float'))\n",
    "comfortableZoneMat = [\"SHOT_DIST\", \"CLOSE_DEF_DIST\", \"SHOT_CLOCK\"]\n"
   ]
  },
  {
   "cell_type": "code",
   "execution_count": 19,
   "id": "8b75f626-948c-476d-b4e6-0e224b44f454",
   "metadata": {},
   "outputs": [],
   "source": [
    "for feature in comfortableZoneMat:\n",
    "    nbaShotsData = nbaShotsData.withColumn(feature, psf.col(feature).cast(\"float\"))\n"
   ]
  },
  {
   "cell_type": "code",
   "execution_count": 20,
   "id": "d7d7d853-86fd-4ff7-8103-037bc23617db",
   "metadata": {},
   "outputs": [],
   "source": [
    "\n",
    "vecAssembler = VectorAssembler(inputCols=comfortableZoneMat, outputCol=\"shooting_zone\")\n",
    "nbaShotsData = vecAssembler.transform(nbaShotsData).select('player_name', 'shooting_zone', 'SHOT_RESULT')\n",
    "\n",
    "\n",
    "kmeans = KMeans(k=4, featuresCol=\"shooting_zone\")\n",
    "kmeansFitData = kmeans.fit(nbaShotsData)\n",
    "\n",
    "playersData = nbaShotsData.filter(nbaShotsData['player_name'].isin(['james harden', 'chris paul', 'stephen curry', 'lebron james']))\n",
    "\n",
    "pred = kmeansFitData.transform(playersData).select('player_name', 'prediction', 'SHOT_RESULT')\n"
   ]
  },
  {
   "cell_type": "code",
   "execution_count": 21,
   "id": "97eb0066-0e3c-4fba-891b-90535acc5b90",
   "metadata": {},
   "outputs": [],
   "source": [
    "\n",
    "pred.createOrReplaceTempView(\"player_zones\")"
   ]
  },
  {
   "cell_type": "code",
   "execution_count": 22,
   "id": "c9514e1b-b869-4171-acd1-03fe04ed9cc4",
   "metadata": {},
   "outputs": [
    {
     "name": "stdout",
     "output_type": "stream",
     "text": [
      "+-------------+----------+------------------+\n",
      "|  player_name|prediction|     avgShotResult|\n",
      "+-------------+----------+------------------+\n",
      "| lebron james|         3|0.6613545816733067|\n",
      "|   chris paul|         0|0.5563380281690141|\n",
      "| james harden|         3|0.5604395604395604|\n",
      "|stephen curry|         3|0.6350710900473934|\n",
      "+-------------+----------+------------------+\n",
      "\n"
     ]
    }
   ],
   "source": [
    "\n",
    "\n",
    "avgShotResultQuery = \"\"\"SELECT player_name, prediction, AVG(SHOT_RESULT) AS avgShotResult FROM player_zones GROUP BY player_name, prediction ORDER BY player_name, prediction \"\"\"\n",
    "res = sparkObj.sql(avgShotResultQuery)\n",
    "\n",
    "maxAvgShot = res.groupBy(\"player_name\").agg(psf.max(\"avgShotResult\").alias(\"maxAvgShotResult\"))\n",
    "\n",
    "bestZone = res.alias(\"df1\").join(maxAvgShot.alias(\"df2\"), (psf.col(\"df1.player_name\") == psf.col(\"df2.player_name\")) & (psf.col(\"df1.avgShotResult\") == psf.col(\"df2.maxAvgShotResult\")))\n",
    "\n",
    "bestZone = bestZone.select(\"df1.*\")\n",
    "bestZone.show()"
   ]
  },
  {
   "cell_type": "code",
   "execution_count": 23,
   "id": "0388e33a-5865-4a53-9637-b67840368acf",
   "metadata": {},
   "outputs": [],
   "source": [
    "sparkObj.stop()"
   ]
  },
  {
   "cell_type": "markdown",
   "id": "caad91de-9ca0-4a14-b76e-b26cc31cf599",
   "metadata": {},
   "source": [
    "### Answer 2:\n",
    "1. Zone-1 corresponds to a prediction value of 0, Zone-2 to 1, and Zone-3 to 2 and Zone 4 to 3 in the 'prediction' column.\r",
    "2. \n",
    "To determine each player's comfort zone, we grouped the data by player and zone, calculating the average score for each group\n",
    "3. As seen in the table Lebron, james, stephen has best Zone 1 and Chris has best Zone 4..\n"
   ]
  },
  {
   "cell_type": "code",
   "execution_count": null,
   "id": "c77c05c1-6217-4960-8dd3-8f78fa098b14",
   "metadata": {},
   "outputs": [],
   "source": []
  }
 ],
 "metadata": {
  "kernelspec": {
   "display_name": "Python 3 (ipykernel)",
   "language": "python",
   "name": "python3"
  },
  "language_info": {
   "codemirror_mode": {
    "name": "ipython",
    "version": 3
   },
   "file_extension": ".py",
   "mimetype": "text/x-python",
   "name": "python",
   "nbconvert_exporter": "python",
   "pygments_lexer": "ipython3",
   "version": "3.11.6"
  }
 },
 "nbformat": 4,
 "nbformat_minor": 5
}
