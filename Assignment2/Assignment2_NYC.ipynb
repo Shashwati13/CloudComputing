{
 "cells": [
  {
   "cell_type": "code",
   "execution_count": 2,
   "id": "989cd0c9-f1cf-4a12-aa47-8b91fc932097",
   "metadata": {},
   "outputs": [],
   "source": [
    "import os\n",
    "import numpy as np\n",
    "import pandas as pd\n",
    "import shutil\n",
    "import pyspark\n"
   ]
  },
  {
   "cell_type": "code",
   "execution_count": 3,
   "id": "2d095d1d-dc70-46c8-966f-591eec546f66",
   "metadata": {},
   "outputs": [],
   "source": [
    "import pyspark.sql.functions as psf\n",
    "from pyspark.ml.clustering import KMeans\n",
    "from pyspark.ml.feature import VectorAssembler\n",
    "from pyspark.sql import SparkSession \n",
    "from pyspark.sql import SparkSession, SQLContext, Window\n",
    "from pyspark.sql.functions import when, count, col, sum, regexp_replace\n",
    "from pyspark import SparkContext\n",
    "from pyspark.sql.types import IntegerType"
   ]
  },
  {
   "cell_type": "code",
   "execution_count": 15,
   "id": "8de5ed34-c7ba-463c-80e5-7b4c6ca141ff",
   "metadata": {},
   "outputs": [],
   "source": [
    "sparkObj = pyspark.sql.SparkSession.builder.appName(\"Assignment2-NYC\").getOrCreate()\n",
    "sparkObj.conf.set(\"spark.sql.repl.eagerEval.enabled\", True)"
   ]
  },
  {
   "cell_type": "code",
   "execution_count": 16,
   "id": "df3bf3af-bf44-4ad0-9c9d-15acbe9fdf61",
   "metadata": {},
   "outputs": [
    {
     "data": {
      "text/html": [
       "\n",
       "            <div>\n",
       "                <p><b>SparkSession - in-memory</b></p>\n",
       "                \n",
       "        <div>\n",
       "            <p><b>SparkContext</b></p>\n",
       "\n",
       "            <p><a href=\"http://45d2c2899c2c:4041\">Spark UI</a></p>\n",
       "\n",
       "            <dl>\n",
       "              <dt>Version</dt>\n",
       "                <dd><code>v3.5.0</code></dd>\n",
       "              <dt>Master</dt>\n",
       "                <dd><code>local[*]</code></dd>\n",
       "              <dt>AppName</dt>\n",
       "                <dd><code>Assignment2-NYC</code></dd>\n",
       "            </dl>\n",
       "        </div>\n",
       "        \n",
       "            </div>\n",
       "        "
      ],
      "text/plain": [
       "<pyspark.sql.session.SparkSession at 0x7f94ec8aa050>"
      ]
     },
     "execution_count": 16,
     "metadata": {},
     "output_type": "execute_result"
    }
   ],
   "source": [
    "sparkObj"
   ]
  },
  {
   "cell_type": "code",
   "execution_count": 17,
   "id": "a8a49595-90a5-4add-9ad7-3d21edbcbc51",
   "metadata": {},
   "outputs": [],
   "source": [
    "\n",
    "nyParkingData = sparkObj.read.format(\"csv\") \\\n",
    "    .option(\"header\", \"true\") \\\n",
    "    .option(\"inferSchema\", \"true\") \\\n",
    "    .load('Parking_Violations_Issued_-_Fiscal_Year_2023_20231115.csv')\n",
    "\n"
   ]
  },
  {
   "cell_type": "code",
   "execution_count": 18,
   "id": "d3746209-e685-4e17-9fda-77d2d02b2ec0",
   "metadata": {},
   "outputs": [
    {
     "name": "stdout",
     "output_type": "stream",
     "text": [
      "-RECORD 0---------------------------------------\n",
      " Summons Number                    | 1484697303 \n",
      " Plate ID                          | JER1863    \n",
      " Registration State                | NY         \n",
      " Plate Type                        | PAS        \n",
      " Issue Date                        | 06/10/2022 \n",
      " Violation Code                    | 67         \n",
      " Vehicle Body Type                 | SDN        \n",
      " Vehicle Make                      | TOYOT      \n",
      " Issuing Agency                    | P          \n",
      " Street Code1                      | 34330      \n",
      " Street Code2                      | 179        \n",
      " Street Code3                      | 0          \n",
      " Vehicle Expiration Date           | 20221210   \n",
      " Violation Location                | 10         \n",
      " Violation Precinct                | 10         \n",
      " Issuer Precinct                   | 1          \n",
      " Issuer Code                       | 160195     \n",
      " Issuer Command                    | 0001       \n",
      " Issuer Squad                      | 0000       \n",
      " Violation Time                    | 1037A      \n",
      " Time First Observed               | NULL       \n",
      " Violation County                  | NY         \n",
      " Violation In Front Of Or Opposite | F          \n",
      " House Number                      | NULL       \n",
      " Street Name                       | W 28TH ST  \n",
      " Intersecting Street               | CHELSEA PK \n",
      " Date First Observed               | 0          \n",
      " Law Section                       | 408        \n",
      " Sub Division                      | E3         \n",
      " Violation Legal Code              | NULL       \n",
      " Days Parking In Effect            | BBBBBBB    \n",
      " From Hours In Effect              | ALL        \n",
      " To Hours In Effect                | ALL        \n",
      " Vehicle Color                     | BLK        \n",
      " Unregistered Vehicle?             | 0          \n",
      " Vehicle Year                      | 2004       \n",
      " Meter Number                      | -          \n",
      " Feet From Curb                    | 0          \n",
      " Violation Post Code               | NULL       \n",
      " Violation Description             | NULL       \n",
      " No Standing or Stopping Violation | NULL       \n",
      " Hydrant Violation                 | NULL       \n",
      " Double Parking Violation          | NULL       \n",
      "-RECORD 1---------------------------------------\n",
      " Summons Number                    | 1484697315 \n",
      " Plate ID                          | KEV4487    \n",
      " Registration State                | NY         \n",
      " Plate Type                        | PAS        \n",
      " Issue Date                        | 06/13/2022 \n",
      " Violation Code                    | 51         \n",
      " Vehicle Body Type                 | SUBN       \n",
      " Vehicle Make                      | JEEP       \n",
      " Issuing Agency                    | K          \n",
      " Street Code1                      | 34310      \n",
      " Street Code2                      | 16400      \n",
      " Street Code3                      | 11010      \n",
      " Vehicle Expiration Date           | 20220908   \n",
      " Violation Location                | 10         \n",
      " Violation Precinct                | 10         \n",
      " Issuer Precinct                   | 1          \n",
      " Issuer Code                       | 160195     \n",
      " Issuer Command                    | 0001       \n",
      " Issuer Squad                      | 0000       \n",
      " Violation Time                    | 1045A      \n",
      " Time First Observed               | NULL       \n",
      " Violation County                  | NY         \n",
      " Violation In Front Of Or Opposite | O          \n",
      " House Number                      | 436        \n",
      " Street Name                       | 27TH DR    \n",
      " Intersecting Street               | NULL       \n",
      " Date First Observed               | 0          \n",
      " Law Section                       | 408        \n",
      " Sub Division                      | F3         \n",
      " Violation Legal Code              | NULL       \n",
      " Days Parking In Effect            | BBBBBBB    \n",
      " From Hours In Effect              | ALL        \n",
      " To Hours In Effect                | ALL        \n",
      " Vehicle Color                     | GRAY       \n",
      " Unregistered Vehicle?             | 0          \n",
      " Vehicle Year                      | 2017       \n",
      " Meter Number                      | -          \n",
      " Feet From Curb                    | 0          \n",
      " Violation Post Code               | NULL       \n",
      " Violation Description             | NULL       \n",
      " No Standing or Stopping Violation | NULL       \n",
      " Hydrant Violation                 | NULL       \n",
      " Double Parking Violation          | NULL       \n",
      "only showing top 2 rows\n",
      "\n"
     ]
    }
   ],
   "source": [
    "nyParkingData.show(n=2, truncate=False, vertical=True)"
   ]
  },
  {
   "cell_type": "code",
   "execution_count": 19,
   "id": "34549912-ffce-4390-bffb-63ae1e5d95f5",
   "metadata": {},
   "outputs": [
    {
     "name": "stdout",
     "output_type": "stream",
     "text": [
      "Total Rows:  21563502\n",
      "Total Columns:  43\n"
     ]
    }
   ],
   "source": [
    "print(\"Total Rows: \" , nyParkingData.count())\n",
    "print(\"Total Columns: \" , len(nyParkingData.columns))"
   ]
  },
  {
   "cell_type": "code",
   "execution_count": 20,
   "id": "91f4bb48-9434-4be7-8c3f-92986730a5d2",
   "metadata": {},
   "outputs": [
    {
     "name": "stdout",
     "output_type": "stream",
     "text": [
      "root\n",
      " |-- Summons Number: long (nullable = true)\n",
      " |-- Plate ID: string (nullable = true)\n",
      " |-- Registration State: string (nullable = true)\n",
      " |-- Plate Type: string (nullable = true)\n",
      " |-- Issue Date: string (nullable = true)\n",
      " |-- Violation Code: integer (nullable = true)\n",
      " |-- Vehicle Body Type: string (nullable = true)\n",
      " |-- Vehicle Make: string (nullable = true)\n",
      " |-- Issuing Agency: string (nullable = true)\n",
      " |-- Street Code1: integer (nullable = true)\n",
      " |-- Street Code2: integer (nullable = true)\n",
      " |-- Street Code3: integer (nullable = true)\n",
      " |-- Vehicle Expiration Date: integer (nullable = true)\n",
      " |-- Violation Location: integer (nullable = true)\n",
      " |-- Violation Precinct: integer (nullable = true)\n",
      " |-- Issuer Precinct: integer (nullable = true)\n",
      " |-- Issuer Code: integer (nullable = true)\n",
      " |-- Issuer Command: string (nullable = true)\n",
      " |-- Issuer Squad: string (nullable = true)\n",
      " |-- Violation Time: string (nullable = true)\n",
      " |-- Time First Observed: string (nullable = true)\n",
      " |-- Violation County: string (nullable = true)\n",
      " |-- Violation In Front Of Or Opposite: string (nullable = true)\n",
      " |-- House Number: string (nullable = true)\n",
      " |-- Street Name: string (nullable = true)\n",
      " |-- Intersecting Street: string (nullable = true)\n",
      " |-- Date First Observed: integer (nullable = true)\n",
      " |-- Law Section: integer (nullable = true)\n",
      " |-- Sub Division: string (nullable = true)\n",
      " |-- Violation Legal Code: string (nullable = true)\n",
      " |-- Days Parking In Effect: string (nullable = true)\n",
      " |-- From Hours In Effect: string (nullable = true)\n",
      " |-- To Hours In Effect: string (nullable = true)\n",
      " |-- Vehicle Color: string (nullable = true)\n",
      " |-- Unregistered Vehicle?: integer (nullable = true)\n",
      " |-- Vehicle Year: integer (nullable = true)\n",
      " |-- Meter Number: string (nullable = true)\n",
      " |-- Feet From Curb: integer (nullable = true)\n",
      " |-- Violation Post Code: string (nullable = true)\n",
      " |-- Violation Description: string (nullable = true)\n",
      " |-- No Standing or Stopping Violation: string (nullable = true)\n",
      " |-- Hydrant Violation: string (nullable = true)\n",
      " |-- Double Parking Violation: string (nullable = true)\n",
      "\n"
     ]
    }
   ],
   "source": [
    "nyParkingData.printSchema()"
   ]
  },
  {
   "cell_type": "code",
   "execution_count": 21,
   "id": "b2040d3c-efd8-4ede-a8b7-1b39db5ae608",
   "metadata": {},
   "outputs": [
    {
     "name": "stdout",
     "output_type": "stream",
     "text": [
      "-RECORD 0---------------------------------------\n",
      " Summons Number                    | 1484697303 \n",
      " Plate ID                          | JER1863    \n",
      " Registration State                | NY         \n",
      " Plate Type                        | PAS        \n",
      " Issue Date                        | 06/10/2022 \n",
      " Violation Code                    | 67         \n",
      " Vehicle Body Type                 | SDN        \n",
      " Vehicle Make                      | TOYOT      \n",
      " Issuing Agency                    | P          \n",
      " Street Code1                      | 34330      \n",
      " Street Code2                      | 179        \n",
      " Street Code3                      | 0          \n",
      " Vehicle Expiration Date           | 20221210   \n",
      " Violation Location                | 10         \n",
      " Violation Precinct                | 10         \n",
      " Issuer Precinct                   | 1          \n",
      " Issuer Code                       | 160195     \n",
      " Issuer Command                    | 0001       \n",
      " Issuer Squad                      | 0000       \n",
      " Violation Time                    | 1037A      \n",
      " Time First Observed               | NULL       \n",
      " Violation County                  | NY         \n",
      " Violation In Front Of Or Opposite | F          \n",
      " House Number                      | NULL       \n",
      " Street Name                       | W 28TH ST  \n",
      " Intersecting Street               | CHELSEA PK \n",
      " Date First Observed               | 0          \n",
      " Law Section                       | 408        \n",
      " Sub Division                      | E3         \n",
      " Violation Legal Code              | NULL       \n",
      " Days Parking In Effect            | BBBBBBB    \n",
      " From Hours In Effect              | ALL        \n",
      " To Hours In Effect                | ALL        \n",
      " Vehicle Color                     | BLK        \n",
      " Unregistered Vehicle?             | 0          \n",
      " Vehicle Year                      | 2004       \n",
      " Meter Number                      | -          \n",
      " Feet From Curb                    | 0          \n",
      " Violation Post Code               | NULL       \n",
      " Violation Description             | NULL       \n",
      " No Standing or Stopping Violation | NULL       \n",
      " Hydrant Violation                 | NULL       \n",
      " Double Parking Violation          | NULL       \n",
      "only showing top 1 row\n",
      "\n"
     ]
    }
   ],
   "source": [
    "nyParkingData.selectExpr(\"*\").show(1, vertical=True)\n"
   ]
  },
  {
   "cell_type": "markdown",
   "id": "10f4e429-e4cf-4398-b7a9-f1de83b833db",
   "metadata": {},
   "source": [
    "## Null Values in the dataset"
   ]
  },
  {
   "cell_type": "code",
   "execution_count": 22,
   "id": "dde06499-34a4-4eba-8627-ca52389be3e7",
   "metadata": {},
   "outputs": [
    {
     "name": "stdout",
     "output_type": "stream",
     "text": [
      "-RECORD 0-------------------------------------\n",
      " Summons Number                    | 0        \n",
      " Plate ID                          | 2        \n",
      " Registration State                | 0        \n",
      " Plate Type                        | 0        \n",
      " Issue Date                        | 0        \n",
      " Violation Code                    | 0        \n",
      " Vehicle Body Type                 | 51924    \n",
      " Vehicle Make                      | 19151    \n",
      " Issuing Agency                    | 0        \n",
      " Street Code1                      | 0        \n",
      " Street Code2                      | 0        \n",
      " Street Code3                      | 0        \n",
      " Vehicle Expiration Date           | 0        \n",
      " Violation Location                | 9838473  \n",
      " Violation Precinct                | 0        \n",
      " Issuer Precinct                   | 0        \n",
      " Issuer Code                       | 0        \n",
      " Issuer Command                    | 9829279  \n",
      " Issuer Squad                      | 10569424 \n",
      " Violation Time                    | 254      \n",
      " Time First Observed               | 20321541 \n",
      " Violation County                  | 128443   \n",
      " Violation In Front Of Or Opposite | 9941557  \n",
      " House Number                      | 10025221 \n",
      " Street Name                       | 2517     \n",
      " Intersecting Street               | 10142840 \n",
      " Date First Observed               | 0        \n",
      " Law Section                       | 0        \n",
      " Sub Division                      | 3277     \n",
      " Violation Legal Code              | 11734219 \n",
      " Days Parking In Effect            | 10021582 \n",
      " From Hours In Effect              | 14783704 \n",
      " To Hours In Effect                | 14783724 \n",
      " Vehicle Color                     | 1942398  \n",
      " Unregistered Vehicle?             | 21125746 \n",
      " Vehicle Year                      | 0        \n",
      " Meter Number                      | 19034672 \n",
      " Feet From Curb                    | 0        \n",
      " Violation Post Code               | 11007044 \n",
      " Violation Description             | 439036   \n",
      " No Standing or Stopping Violation | 21563502 \n",
      " Hydrant Violation                 | 21563502 \n",
      " Double Parking Violation          | 21563502 \n",
      "\n"
     ]
    }
   ],
   "source": [
    "from pyspark.sql.functions import isnan, when, count, col\n",
    "nyParkingData.select([count(when(col(c).isNull(), c)).alias(c) for c in nyParkingData.columns]).show(vertical=True)\n"
   ]
  },
  {
   "cell_type": "markdown",
   "id": "55c2c6aa-8693-48bd-b4ee-fa1d9aeaef5c",
   "metadata": {},
   "source": [
    "# Pre-processing and Handling Null Values"
   ]
  },
  {
   "cell_type": "code",
   "execution_count": 23,
   "id": "9371934f-404e-4399-9bf5-c3d8deb919eb",
   "metadata": {},
   "outputs": [],
   "source": [
    "nyParkingData = nyParkingData.dropna(subset=['Violation Time'])"
   ]
  },
  {
   "cell_type": "code",
   "execution_count": 24,
   "id": "e5d04ef6-32fe-4a86-9689-f785cafce853",
   "metadata": {},
   "outputs": [],
   "source": [
    "nyParkingData = nyParkingData.dropna(subset=['Vehicle Body Type'])\n"
   ]
  },
  {
   "cell_type": "code",
   "execution_count": 25,
   "id": "40abfe3f-5463-4722-b916-2b1b98bf8285",
   "metadata": {},
   "outputs": [],
   "source": [
    "nyParkingData = nyParkingData.dropna(subset=['Violation Location'])\n",
    "nyParkingData = nyParkingData.dropna(subset=['Vehicle Color'])"
   ]
  },
  {
   "cell_type": "code",
   "execution_count": 26,
   "id": "d14a326f-fc8f-4a8f-b6e6-ef7ffa2f4590",
   "metadata": {},
   "outputs": [
    {
     "name": "stdout",
     "output_type": "stream",
     "text": [
      "-RECORD 0-------------------------------------\n",
      " Summons Number                    | 0        \n",
      " Plate ID                          | 1        \n",
      " Registration State                | 0        \n",
      " Plate Type                        | 0        \n",
      " Issue Date                        | 0        \n",
      " Violation Code                    | 0        \n",
      " Vehicle Body Type                 | 0        \n",
      " Vehicle Make                      | 9373     \n",
      " Issuing Agency                    | 0        \n",
      " Street Code1                      | 0        \n",
      " Street Code2                      | 0        \n",
      " Street Code3                      | 0        \n",
      " Vehicle Expiration Date           | 0        \n",
      " Violation Location                | 0        \n",
      " Violation Precinct                | 0        \n",
      " Issuer Precinct                   | 0        \n",
      " Issuer Code                       | 0        \n",
      " Issuer Command                    | 0        \n",
      " Issuer Squad                      | 737132   \n",
      " Violation Time                    | 0        \n",
      " Time First Observed               | 10429913 \n",
      " Violation County                  | 31512    \n",
      " Violation In Front Of Or Opposite | 102820   \n",
      " House Number                      | 183903   \n",
      " Street Name                       | 837      \n",
      " Intersecting Street               | 9657967  \n",
      " Date First Observed               | 0        \n",
      " Law Section                       | 0        \n",
      " Sub Division                      | 1388     \n",
      " Violation Legal Code              | 11658506 \n",
      " Days Parking In Effect            | 191133   \n",
      " From Hours In Effect              | 4950319  \n",
      " To Hours In Effect                | 4950339  \n",
      " Vehicle Color                     | 0        \n",
      " Unregistered Vehicle?             | 11287915 \n",
      " Vehicle Year                      | 0        \n",
      " Meter Number                      | 9198165  \n",
      " Feet From Curb                    | 0        \n",
      " Violation Post Code               | 1107573  \n",
      " Violation Description             | 371011   \n",
      " No Standing or Stopping Violation | 11658506 \n",
      " Hydrant Violation                 | 11658506 \n",
      " Double Parking Violation          | 11658506 \n",
      "\n"
     ]
    }
   ],
   "source": [
    "nyParkingData.select([count(when(col(c).isNull(), c)).alias(c) for c in nyParkingData.columns]).show(vertical=True)\n"
   ]
  },
  {
   "cell_type": "markdown",
   "id": "14f14015-4167-42ed-86d9-ddb1e1bfef5d",
   "metadata": {},
   "source": [
    "## Create View for NYC Parking Data"
   ]
  },
  {
   "cell_type": "code",
   "execution_count": 27,
   "id": "79014af2-3f23-4c0e-81ad-26a61d371f37",
   "metadata": {},
   "outputs": [],
   "source": [
    "nyParkingData = nyParkingData.withColumn('Issue Year', psf.year(psf.to_date(nyParkingData['Issue Date'], 'MM/dd/yyyy')))\n",
    "nyParkingData.createOrReplaceTempView(\"nyParkingDataView\")\n"
   ]
  },
  {
   "cell_type": "markdown",
   "id": "fc4caacc-a473-4a61-b7a8-79afb42d4c69",
   "metadata": {},
   "source": [
    "## Question 1: When are tickets most likely to be issued? "
   ]
  },
  {
   "cell_type": "code",
   "execution_count": 28,
   "id": "5e919073-cba9-4ee3-9d39-1cc05f6c6fba",
   "metadata": {},
   "outputs": [
    {
     "name": "stdout",
     "output_type": "stream",
     "text": [
      "+--------------+----------------+\n",
      "|Violation Time|Ticket_Frequency|\n",
      "+--------------+----------------+\n",
      "|         0836A|           35300|\n",
      "|         0838A|           33070|\n",
      "|         0839A|           33052|\n",
      "|         0840A|           32776|\n",
      "|         0906A|           32194|\n",
      "|         0837A|           31797|\n",
      "|         0841A|           31670|\n",
      "|         0842A|           31067|\n",
      "|         0843A|           30451|\n",
      "|         0908A|           30307|\n",
      "|         0844A|           29968|\n",
      "|         0845A|           29823|\n",
      "|         0910A|           29692|\n",
      "|         0909A|           29676|\n",
      "|         0907A|           29566|\n",
      "|         1140A|           29395|\n",
      "|         0806A|           28904|\n",
      "|         0846A|           28830|\n",
      "|         1142A|           28670|\n",
      "|         1141A|           28614|\n",
      "+--------------+----------------+\n",
      "only showing top 20 rows\n",
      "\n"
     ]
    }
   ],
   "source": [
    "sparkObj.sql(\"SELECT `Violation Time`, COUNT(*) AS Ticket_Frequency FROM nyParkingDataView GROUP BY `Violation Time` ORDER BY Ticket_Frequency DESC\").show()\n"
   ]
  },
  {
   "cell_type": "markdown",
   "id": "481cb6c9-f215-427a-9031-9088f2c241fd",
   "metadata": {},
   "source": [
    "## Answer 1:\n",
    "* I have sorted this according to the frequency in descending order and fetched violation time. Hence, at 0836A i.e 8:36 AM, we have maximum violators that is 35300"
   ]
  },
  {
   "cell_type": "markdown",
   "id": "df78993b-35fc-4879-a987-f099d49b57af",
   "metadata": {},
   "source": [
    "## Question 2: What are the most common years and types of cars to be ticketed? "
   ]
  },
  {
   "cell_type": "code",
   "execution_count": 29,
   "id": "7536cc0b-d8f5-4127-b7ef-2796e531b2a1",
   "metadata": {},
   "outputs": [
    {
     "name": "stdout",
     "output_type": "stream",
     "text": [
      "+-----------+----------+---------------+\n",
      "|Type of Car|Issue Year|Violation_Count|\n",
      "+-----------+----------+---------------+\n",
      "|       SUBN|      2023|        2248534|\n",
      "|       SUBN|      2022|        1493740|\n",
      "|       4DSD|      2023|        1237369|\n",
      "|       4DSD|      2022|         887320|\n",
      "|        VAN|      2023|         712154|\n",
      "|        VAN|      2022|         489204|\n",
      "|       PICK|      2023|         159446|\n",
      "|       DELV|      2023|         136793|\n",
      "|       PICK|      2022|         106445|\n",
      "|       DELV|      2022|          98201|\n",
      "+-----------+----------+---------------+\n",
      "only showing top 10 rows\n",
      "\n"
     ]
    }
   ],
   "source": [
    "\n",
    "sparkObj.sql(\"SELECT `Vehicle Body Type` as `Type of Car`,`Issue Year`, COUNT(*) AS `Violation_Count` FROM nyParkingDataView WHERE (`Vehicle Year` > 0) GROUP BY `Vehicle Body Type`, `Issue Year` ORDER BY `Violation_Count` DESC\").show(10)\n"
   ]
  },
  {
   "cell_type": "markdown",
   "id": "d18e7a8a-1077-44a6-8c3c-cb5c4781a2d7",
   "metadata": {},
   "source": [
    "## Answer 2:\n",
    "* Most Common Year is 2023\n",
    "* And Type of Car is SUBN"
   ]
  },
  {
   "cell_type": "markdown",
   "id": "7c4fefb0-2241-4e3e-b3f1-96b24c94821e",
   "metadata": {},
   "source": [
    "## Question 3: Where are tickets most commonly issued"
   ]
  },
  {
   "cell_type": "code",
   "execution_count": 30,
   "id": "8ffffd87-d723-4dc6-bd29-ef115a9801d8",
   "metadata": {},
   "outputs": [
    {
     "name": "stdout",
     "output_type": "stream",
     "text": [
      "+------------------+-------------+\n",
      "|Violation Location|No_of_tickets|\n",
      "+------------------+-------------+\n",
      "|                19|       543760|\n",
      "|                13|       444043|\n",
      "|                 6|       422414|\n",
      "|               114|       414982|\n",
      "|                14|       367244|\n",
      "|                18|       319307|\n",
      "|                 9|       296111|\n",
      "|                 1|       287019|\n",
      "|               109|       270077|\n",
      "|               115|       247344|\n",
      "|                20|       231725|\n",
      "|               108|       228404|\n",
      "|                70|       217372|\n",
      "|                84|       212563|\n",
      "|                10|       206185|\n",
      "+------------------+-------------+\n",
      "only showing top 15 rows\n",
      "\n"
     ]
    }
   ],
   "source": [
    "sparkObj.sql(\"SELECT `Violation Location`, COUNT(*) AS No_of_tickets  FROM nyParkingDataView GROUP BY `Violation Location` ORDER BY count(*) DESC\").show(15)"
   ]
  },
  {
   "cell_type": "markdown",
   "id": "d1a25af6-14bc-4529-9ca5-fc0b364abd36",
   "metadata": {},
   "source": [
    "## Answer 3: \n",
    "* Location with most tickets issued: 19"
   ]
  },
  {
   "cell_type": "markdown",
   "id": "c5d9e5b3-13cb-4327-9c16-93a98991ab0e",
   "metadata": {},
   "source": [
    "## Question 4: Which color of the vehicle is most likely to get a ticket ?"
   ]
  },
  {
   "cell_type": "code",
   "execution_count": 31,
   "id": "85b35548-e972-40a2-97fb-1e72270000f0",
   "metadata": {},
   "outputs": [
    {
     "name": "stdout",
     "output_type": "stream",
     "text": [
      "+-------------+------------+\n",
      "|Vehicle Color|Ticket_Count|\n",
      "+-------------+------------+\n",
      "|           WH|     2227522|\n",
      "|           GY|     2034985|\n",
      "|           BK|     1734455|\n",
      "|        WHITE|     1251084|\n",
      "|        BLACK|      783294|\n",
      "|           BL|      709865|\n",
      "|         GREY|      584562|\n",
      "|           RD|      401003|\n",
      "|         BLUE|      281506|\n",
      "|        SILVE|      273305|\n",
      "|        BROWN|      269821|\n",
      "|          RED|      200192|\n",
      "|           GR|      144667|\n",
      "|           TN|       79292|\n",
      "|        OTHER|       73179|\n",
      "+-------------+------------+\n",
      "only showing top 15 rows\n",
      "\n"
     ]
    }
   ],
   "source": [
    "sparkObj.sql(\"SELECT `Vehicle Color`, COUNT(*) as Ticket_Count FROM nyParkingDataView GROUP BY `Vehicle Color` ORDER BY COUNT(*) DESC\").show(15)"
   ]
  },
  {
   "cell_type": "markdown",
   "id": "f4b3dd04-1bb4-4a4e-9ef5-dfd95231d072",
   "metadata": {},
   "source": [
    "## Answer 4: \n",
    "* Vehicle Color: WH\n",
    "* Ticket Count for this Vehicle Color: 2227522"
   ]
  },
  {
   "cell_type": "code",
   "execution_count": 32,
   "id": "ef55830f-8f92-4f1b-a049-da12a906c575",
   "metadata": {},
   "outputs": [],
   "source": [
    "sparkObj.stop()"
   ]
  },
  {
   "cell_type": "markdown",
   "id": "fafc457a-c53f-4ad9-ac2c-eaf0a76f854f",
   "metadata": {},
   "source": [
    "## Based on a K-Means algorithm, please try to answer the following question:"
   ]
  },
  {
   "cell_type": "markdown",
   "id": "4acefd89-1099-4b99-b252-316be40ecd16",
   "metadata": {},
   "source": [
    "##  Question 5: Given a Black vehicle parking illegally at 34510, 10030, 34050 (street codes). What is the probability that it will get an ticket?"
   ]
  },
  {
   "cell_type": "code",
   "execution_count": 4,
   "id": "886e4649-36cc-46e9-b7ff-d7edd0c52dd9",
   "metadata": {},
   "outputs": [],
   "source": [
    "sparkObj = SparkSession.builder \\\n",
    ".appName('Assignment2_NYC-Kmeans') \\\n",
    ".master('local[*]') \\\n",
    ".config('spark.sql.execution.arrow.pyspark.enabled', True) \\\n",
    ".config('spark.sql.session.timeZone', 'UTC') \\\n",
    ".config('spark.driver.memory','32G') \\\n",
    ".config('spark.ui.showConsoleProgress', True) \\\n",
    ".config('spark.sql.repl.eagerEval.enabled', True) \\\n",
    ".getOrCreate()"
   ]
  },
  {
   "cell_type": "code",
   "execution_count": 5,
   "id": "f4168beb-6d85-4805-aa14-1f06856a9e63",
   "metadata": {},
   "outputs": [
    {
     "data": {
      "text/html": [
       "\n",
       "            <div>\n",
       "                <p><b>SparkSession - in-memory</b></p>\n",
       "                \n",
       "        <div>\n",
       "            <p><b>SparkContext</b></p>\n",
       "\n",
       "            <p><a href=\"http://45d2c2899c2c:4041\">Spark UI</a></p>\n",
       "\n",
       "            <dl>\n",
       "              <dt>Version</dt>\n",
       "                <dd><code>v3.5.0</code></dd>\n",
       "              <dt>Master</dt>\n",
       "                <dd><code>local[*]</code></dd>\n",
       "              <dt>AppName</dt>\n",
       "                <dd><code>Assignment2_NYC-Kmeans</code></dd>\n",
       "            </dl>\n",
       "        </div>\n",
       "        \n",
       "            </div>\n",
       "        "
      ],
      "text/plain": [
       "<pyspark.sql.session.SparkSession at 0x7f94ec8a9f10>"
      ]
     },
     "execution_count": 5,
     "metadata": {},
     "output_type": "execute_result"
    }
   ],
   "source": [
    "sparkObj"
   ]
  },
  {
   "cell_type": "markdown",
   "id": "e025140f-c99a-43ac-8e02-938a94a44520",
   "metadata": {},
   "source": [
    "### Reading the Data"
   ]
  },
  {
   "cell_type": "code",
   "execution_count": 6,
   "id": "d55f4d2d-af04-4559-8874-e24b1238bee8",
   "metadata": {},
   "outputs": [],
   "source": [
    "\n",
    "\n",
    "nyParkingData = sparkObj.read.format(\"csv\").option(\"header\", \"true\").option(\"inferSchema\",\"true\").load('Parking_Violations_Issued_-_Fiscal_Year_2023_20231115.csv').select('Street Code1', 'Street Code2', 'Street Code3', 'Vehicle Color')\n",
    "\n",
    "nyParkingData = nyParkingData.select(nyParkingData['Street Code1'].cast('float'), nyParkingData['Street Code2'].cast('float'), nyParkingData['Street Code3'].cast('float'), nyParkingData['Vehicle Color'])\n",
    "\n"
   ]
  },
  {
   "cell_type": "code",
   "execution_count": 7,
   "id": "c4e57a32-0c39-4fc5-8001-7b02cd69a079",
   "metadata": {},
   "outputs": [],
   "source": [
    "from pyspark.ml.clustering import KMeans\n",
    "from pyspark.ml.feature import VectorAssembler\n",
    "import pyspark.sql.functions as psf\n",
    "import numpy as np"
   ]
  },
  {
   "cell_type": "code",
   "execution_count": 8,
   "id": "f27a4953-24a2-4d56-ac7e-1a106ae593d9",
   "metadata": {},
   "outputs": [],
   "source": [
    "def vectorizeStreetCodes(inputData):\n",
    "#Vectorize street codes using Spark VectorAssembler.\n",
    "    return VectorAssembler(inputCols=[\"Street Code1\", \"Street Code2\", \"Street Code3\"], outputCol=\"Street_codes\").transform(inputData)\n",
    "\n",
    "def initializeKmeans(inputData):\n",
    "#Initialize and fit K-Means clustering.\n",
    "    kmeans = KMeans(k=4, featuresCol=\"Street_codes\")\n",
    "    kmeansFitData = kmeans.fit(inputData.select('Street_codes')) \n",
    "    clusterCenters = np.array(kmeansFitData.clusterCenters()).astype(float)\n",
    "    return kmeansFitData.transform(inputData).cache(),clusterCenters"
   ]
  },
  {
   "cell_type": "code",
   "execution_count": 9,
   "id": "8b3abbbd-9345-43d6-94e8-cdfdf8feac8e",
   "metadata": {},
   "outputs": [],
   "source": [
    "def calculateBlackProbability(inputData, blackColor):\n",
    "\n",
    "    blackProb = inputData.groupBy('prediction').agg(\n",
    "        psf.sum(psf.when(psf.col('Vehicle Color').isin(blackColor), 1)).alias('Count'),\n",
    "        psf.count('Vehicle Color').alias('Total_Cars')\n",
    "    ).orderBy('prediction')\n",
    "\n",
    "    return blackProb.select(\n",
    "        'prediction',\n",
    "        'Count',\n",
    "        'Total_Cars',\n",
    "        (psf.col('Count') / psf.col('Total_Cars')).alias('Probability')\n",
    "    )\n",
    "\n",
    "\n"
   ]
  },
  {
   "cell_type": "code",
   "execution_count": 10,
   "id": "d6b586f4-1731-4ec0-80a2-abaab9233e01",
   "metadata": {},
   "outputs": [],
   "source": [
    "def findClosestCluster(streetsData, clusterCenters):\n",
    "# Find the cluster with the closest center to specified streets.\n",
    "    \n",
    "    closestDistance = float(\"inf\")\n",
    "    clusterCentreID = 0\n",
    "\n",
    "    for index in range(len(clusterCenters)):\n",
    "        newDist = np.sum(np.power((np.array(streetsData) - clusterCenters[index]), 2))\n",
    "        if newDist < closestDistance:\n",
    "            closestDistance = newDist\n",
    "            clusterCentreID = index\n",
    "\n",
    "    return clusterCentreID\n"
   ]
  },
  {
   "cell_type": "code",
   "execution_count": 11,
   "id": "0176c5dd-d86d-4c07-be66-34e79e40e0ec",
   "metadata": {},
   "outputs": [],
   "source": [
    "\n",
    "def printClusterProb(clusterCentreID, prob):\n",
    "# Print the probability for the specified cluster\n",
    "    print('Cluster ID for given Street Code (34510, 10030, 34050):', clusterCentreID)\n",
    "    print(\"-----------------------------------------------------------------------\")\n",
    "    print(\"Probability for that Specific Cluster:\")\n",
    "    prob.filter(psf.col('prediction') == clusterCentreID).show()\n"
   ]
  },
  {
   "cell_type": "code",
   "execution_count": 12,
   "id": "8b50e338-8696-4849-838a-33ab695dec94",
   "metadata": {},
   "outputs": [],
   "source": [
    "\n",
    "def calculatePrintProbability(inputData, blackColor, streetCode):\n",
    "# Main function to calculate and print probability.\n",
    "    inputData = vectorizeStreetCodes(inputData)\n",
    "    kmeansFitData, clusterCenters= initializeKmeans(inputData)\n",
    "    \n",
    "    prob = calculateBlackProbability(kmeansFitData, blackColor)\n",
    "\n",
    "    clusterCentreID = findClosestCluster(streetCode, clusterCenters)\n",
    "\n",
    "    # Print the probability for the specified cluster\n",
    "    printClusterProb(clusterCentreID, prob)"
   ]
  },
  {
   "cell_type": "code",
   "execution_count": null,
   "id": "71ff6be1-dba5-4909-b820-dad2bd7c4bdd",
   "metadata": {},
   "outputs": [],
   "source": []
  },
  {
   "cell_type": "code",
   "execution_count": 13,
   "id": "75298208-5bfc-4332-9637-c3e6722eab41",
   "metadata": {},
   "outputs": [
    {
     "name": "stdout",
     "output_type": "stream",
     "text": [
      "Cluster ID for given Street Code (34510, 10030, 34050): 0\n",
      "-----------------------------------------------------------------------\n",
      "Probability for that Specific Cluster:\n",
      "+----------+------+----------+-------------------+\n",
      "|prediction| Count|Total_Cars|        Probability|\n",
      "+----------+------+----------+-------------------+\n",
      "|         0|856969|   5863372|0.14615634143629297|\n",
      "+----------+------+----------+-------------------+\n",
      "\n"
     ]
    }
   ],
   "source": [
    "blackColor=['BLK.', 'Black', 'BC', 'BLAC', 'BK/', 'BLK', 'BK.', 'BCK', 'BK', 'B LAC']\n",
    "streetCode=[34510, 10030, 34050]\n",
    "calculatePrintProbability(nyParkingData,blackColor,streetCode )\n"
   ]
  },
  {
   "cell_type": "code",
   "execution_count": 14,
   "id": "f082605e-9aa7-4aaf-be8d-f248554fc475",
   "metadata": {},
   "outputs": [],
   "source": [
    "sparkObj.stop()"
   ]
  },
  {
   "cell_type": "code",
   "execution_count": null,
   "id": "5f0a4f82-181a-4517-9fc2-f7941a5cf776",
   "metadata": {},
   "outputs": [],
   "source": []
  }
 ],
 "metadata": {
  "kernelspec": {
   "display_name": "Python 3 (ipykernel)",
   "language": "python",
   "name": "python3"
  },
  "language_info": {
   "codemirror_mode": {
    "name": "ipython",
    "version": 3
   },
   "file_extension": ".py",
   "mimetype": "text/x-python",
   "name": "python",
   "nbconvert_exporter": "python",
   "pygments_lexer": "ipython3",
   "version": "3.11.6"
  }
 },
 "nbformat": 4,
 "nbformat_minor": 5
}
